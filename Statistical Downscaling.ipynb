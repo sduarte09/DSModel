{
 "cells": [
  {
   "cell_type": "code",
   "execution_count": 3,
   "metadata": {},
   "outputs": [],
   "source": [
    "# Import Main Functions\n",
    "import datetime as dt # Work with datetime format\n",
    "import matplotlib.pyplot as plt\n",
    "import netCDF4 as nc # Work with NetCDF format files\n",
    "import numpy as np # Array processing for numbers, strings, records, and objects\n",
    "import os # use OS functions\n",
    "import pandas as pd # Work with Pandas DataFrames\n",
    "import warnings # manage warning alerts\n",
    "import sys\n",
    "sys.path.append('G:\\\\Mi unidad\\\\PhD\\\\Research\\\\Machine Learning for Downscaling Comparison\\\\Scripts\\\\Machine Learning Models\\\\')\n",
    "warnings.filterwarnings(\"ignore\")"
   ]
  },
  {
   "cell_type": "code",
   "execution_count": 4,
   "metadata": {},
   "outputs": [],
   "source": [
    "# Importing auxiliar functions\n",
    "from DSMethods import multi_layer_perceptron # Import Linear regression Functions\n",
    "from DSMethods import k_Nearest_Neighbors # Import k-NN Functions\n",
    "from DSMethods import linear_regression # Import Linear regression Functions\n",
    "from DSMethods import forest_trees # Import Forest Tree Decision Regression"
   ]
  },
  {
   "cell_type": "code",
   "execution_count": null,
   "metadata": {},
   "outputs": [],
   "source": []
  }
 ],
 "metadata": {
  "interpreter": {
   "hash": "ce4eb4d920092f806f03460c9e7d88ecde9146a0b4898dee9c2abea10a26caee"
  },
  "kernelspec": {
   "display_name": "Python 3.8.12 ('oz')",
   "language": "python",
   "name": "python3"
  },
  "language_info": {
   "codemirror_mode": {
    "name": "ipython",
    "version": 3
   },
   "file_extension": ".py",
   "mimetype": "text/x-python",
   "name": "python",
   "nbconvert_exporter": "python",
   "pygments_lexer": "ipython3",
   "version": "3.8.12"
  },
  "orig_nbformat": 4
 },
 "nbformat": 4,
 "nbformat_minor": 2
}
